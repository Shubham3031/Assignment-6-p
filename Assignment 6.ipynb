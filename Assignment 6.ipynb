{
 "cells": [
  {
   "cell_type": "code",
   "execution_count": 2,
   "id": "e7a3576e-681b-4618-b7f9-b2a2b2e0ae24",
   "metadata": {},
   "outputs": [
    {
     "name": "stdout",
     "output_type": "stream",
     "text": [
      "[4, 0, 3, 1, 2]\n"
     ]
    }
   ],
   "source": [
    "# 1.Ans.\n",
    "\n",
    "def permutationNUmber(s):\n",
    "    n = len(s)\n",
    "    perm=[0]*(n+1)\n",
    "    smallest = 0\n",
    "    largest=n\n",
    "    \n",
    "    for i in range(n):\n",
    "        if s[i]==\"I\":\n",
    "            perm[i]=largest\n",
    "            largest-=1\n",
    "        elif s[i]==\"D\":\n",
    "            perm[i]=smallest\n",
    "            smallest+=1\n",
    "            \n",
    "    perm[n]=smallest\n",
    "    return perm\n",
    "\n",
    "s= \"IDID\"\n",
    "\n",
    "print(permutationNUmber(s))\n",
    "        \n",
    "    \n",
    "\n"
   ]
  },
  {
   "cell_type": "code",
   "execution_count": 3,
   "id": "3608d7ce-c767-4d2f-a018-795bfb4a4db0",
   "metadata": {},
   "outputs": [
    {
     "name": "stdout",
     "output_type": "stream",
     "text": [
      "True\n"
     ]
    }
   ],
   "source": [
    "# 2.Ans.\n",
    "\n",
    "def search(matrix, target):\n",
    "    if not matrix or not matrix[0]:\n",
    "        return False\n",
    "\n",
    "    m, n = len(matrix), len(matrix[0])\n",
    "    left, right = 0, m * n - 1\n",
    "\n",
    "    while left <= right:\n",
    "        mid = (left + right) // 2\n",
    "        mid_element = matrix[mid // n][mid % n]\n",
    "\n",
    "        if mid_element == target:\n",
    "            return True\n",
    "        elif mid_element < target:\n",
    "            left = mid + 1\n",
    "        else:\n",
    "            right = mid - 1\n",
    "\n",
    "    return False\n",
    "matrix = [[1,3,5,7],[10,11,16,20],[23,30,34,60]]\n",
    "target = 3\n",
    "\n",
    "print(search(matrix,target))\n",
    "\n",
    "\n"
   ]
  },
  {
   "cell_type": "code",
   "execution_count": 12,
   "id": "e4c68929-74ef-4407-be49-db72b1c70921",
   "metadata": {},
   "outputs": [
    {
     "name": "stdout",
     "output_type": "stream",
     "text": [
      "False\n"
     ]
    }
   ],
   "source": [
    "# 3.Ans.\n",
    "\n",
    "def mountainArray(arr):\n",
    "    n = len(arr)\n",
    "    if n<3:\n",
    "        return False\n",
    "    i=0\n",
    "    \n",
    "    while i<n-1 and arr[i]<arr[i+1]:\n",
    "        i+=1\n",
    "    if i==0 or i==n-i:\n",
    "        return False\n",
    "    while i<n-1 and arr[i]>arr[i+1]:\n",
    "        i+=1\n",
    "        \n",
    "    return i==n-1\n",
    "\n",
    "arr = [1,2]\n",
    "\n",
    "print(mountainArray(arr))\n",
    "    \n",
    "    \n",
    "    \n",
    "    "
   ]
  },
  {
   "cell_type": "code",
   "execution_count": 14,
   "id": "4972925b-c285-4bd7-871a-2bcfac0a40f4",
   "metadata": {},
   "outputs": [
    {
     "name": "stdout",
     "output_type": "stream",
     "text": [
      "2\n"
     ]
    }
   ],
   "source": [
    "# 4.Ans.\n",
    "\n",
    "def findMaxLength(nums):\n",
    "    count = 0 \n",
    "    max_length = 0  \n",
    "\n",
    "    \n",
    "    count_dict = {0: -1}\n",
    "\n",
    "    for i in range(len(nums)):\n",
    "        \n",
    "        count += 1 if nums[i] == 1 else -1\n",
    "\n",
    "        \n",
    "        if count in count_dict:\n",
    "            max_length = max(max_length, i - count_dict[count])\n",
    "        else:\n",
    "            count_dict[count] = i\n",
    "\n",
    "    return max_length\n",
    "\n",
    "nums=[0,1]\n",
    "\n",
    "print(findMaxLength(nums))\n"
   ]
  },
  {
   "cell_type": "code",
   "execution_count": 15,
   "id": "2c55c3f2-d34a-4918-bdb6-76d47dfbb711",
   "metadata": {},
   "outputs": [
    {
     "name": "stdout",
     "output_type": "stream",
     "text": [
      "40\n"
     ]
    }
   ],
   "source": [
    "# 5.Ans.\n",
    "\n",
    "def minProductSum(nums1, nums2):\n",
    "    nums1.sort()\n",
    "    nums2.sort(reverse=True)\n",
    "\n",
    "    min_product_sum = 0\n",
    "    for i in range(len(nums1)):\n",
    "        min_product_sum += nums1[i] * nums2[i]\n",
    "\n",
    "    return min_product_sum\n",
    "nums1 = [5,3,4,2]\n",
    "nums2 = [4,2,2,5]\n",
    "\n",
    "print(minProductSum(nums1,nums2))\n",
    "\n"
   ]
  },
  {
   "cell_type": "code",
   "execution_count": 16,
   "id": "f7615f54-aa01-4e73-9a43-75c0f364a037",
   "metadata": {},
   "outputs": [
    {
     "name": "stdout",
     "output_type": "stream",
     "text": [
      "[1, 3, 4]\n"
     ]
    }
   ],
   "source": [
    "# 6.Ans.\n",
    "\n",
    "# 8.Ans.\n",
    "\n",
    "from collections import deque\n",
    "\n",
    "def findOriginalArray(changed):\n",
    "    queue = deque()\n",
    "    changed.sort()\n",
    "    result = []\n",
    "    \n",
    "    for num in changed:\n",
    "        if queue and num == queue[0]:\n",
    "            queue.popleft()\n",
    "        else:\n",
    "            queue.append(num * 2)\n",
    "            result.append(num)\n",
    "    \n",
    "    return [] if queue else result\n",
    "\n",
    "changed=[1,3,4,2,6,8]\n",
    "print(findOriginalArray(changed))\n",
    "\n"
   ]
  },
  {
   "cell_type": "code",
   "execution_count": 1,
   "id": "e386e4e1-13a6-4dbd-a661-3fa103c163fa",
   "metadata": {},
   "outputs": [
    {
     "name": "stdout",
     "output_type": "stream",
     "text": [
      "[[1, 2, 3], [8, 9, 4], [7, 6, 5]]\n"
     ]
    }
   ],
   "source": [
    "# 7.Ans.\n",
    "\n",
    "def spiralMatrix(n):\n",
    "\n",
    "    matrix = [[0] * n for _ in range(n)]  \n",
    "    num = 1 \n",
    "    direction = 0  \n",
    "    top, bottom, left, right = 0, n - 1, 0, n - 1\n",
    "\n",
    "    while num <= n * n:\n",
    "        if direction == 0:\n",
    "            for i in range(left, right + 1):\n",
    "                matrix[top][i] = num\n",
    "                num += 1\n",
    "            top += 1\n",
    "        elif direction == 1:\n",
    "            for i in range(top, bottom + 1):\n",
    "                matrix[i][right] = num\n",
    "                num += 1\n",
    "            right -= 1\n",
    "        elif direction == 2:\n",
    "            for i in range(right, left - 1, -1):\n",
    "                matrix[bottom][i] = num\n",
    "                num += 1\n",
    "            bottom -= 1\n",
    "        elif direction == 3:\n",
    "            for i in range(bottom, top - 1, -1):\n",
    "                matrix[i][left] = num\n",
    "                num += 1\n",
    "            left += 1\n",
    "\n",
    "        direction = (direction + 1) % 4\n",
    "\n",
    "    return matrix\n",
    "n=3\n",
    "print(spiralMatrix(n))\n"
   ]
  },
  {
   "cell_type": "code",
   "execution_count": 2,
   "id": "c40ab481-d5aa-4b0c-a4af-615d8b399bf8",
   "metadata": {},
   "outputs": [
    {
     "name": "stdout",
     "output_type": "stream",
     "text": [
      "[[7, 0, 0], [-7, 0, 3]]\n"
     ]
    }
   ],
   "source": [
    "# 8.Ans.\n",
    "\n",
    "def multiplyMatrix(mat1,mat2):\n",
    "    \n",
    "    m, k, n = len(mat1), len(mat1[0]), len(mat2[0])\n",
    "    result = [[0] * n for _ in range(m)]\n",
    "\n",
    "    \n",
    "    transpose_mat2 = [[mat2[j][i] for j in range(k)] for i in range(n)]\n",
    "\n",
    "    for i in range(m):\n",
    "        for j in range(n):\n",
    "            \n",
    "            result[i][j] = sum(mat1[i][l] * transpose_mat2[j][l] for l in range(k))\n",
    "\n",
    "    return result\n",
    "\n",
    "mat1= [[1,0,0],[-1,0,3]]\n",
    "mat2 = [[7,0,0],[0,0,0],[0,0,1]]\n",
    "\n",
    "print(multiplyMatrix(mat1,mat2))\n"
   ]
  },
  {
   "cell_type": "code",
   "execution_count": null,
   "id": "98b16743-d8e8-4b20-ae99-85854b075aa2",
   "metadata": {},
   "outputs": [],
   "source": []
  }
 ],
 "metadata": {
  "kernelspec": {
   "display_name": "Python 3 (ipykernel)",
   "language": "python",
   "name": "python3"
  },
  "language_info": {
   "codemirror_mode": {
    "name": "ipython",
    "version": 3
   },
   "file_extension": ".py",
   "mimetype": "text/x-python",
   "name": "python",
   "nbconvert_exporter": "python",
   "pygments_lexer": "ipython3",
   "version": "3.10.6"
  }
 },
 "nbformat": 4,
 "nbformat_minor": 5
}
